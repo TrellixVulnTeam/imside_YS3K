{
 "cells": [
  {
   "cell_type": "raw",
   "metadata": {},
   "source": [
    "preprocessing\n",
    "import libriries"
   ]
  },
  {
   "cell_type": "code",
   "execution_count": 11,
   "metadata": {},
   "outputs": [],
   "source": [
    "import nltk\n",
    "import re\n",
    "import pickle\n",
    "from nltk.corpus import stopwords\n",
    "from nltk.stem import WordNetLemmatizer\n",
    "import pandas as pd\n",
    "import matplotlib.pyplot as plt\n",
    "import json\n",
    "import warnings\n",
    "import numpy as np\n",
    "from sklearn.feature_extraction.text import TfidfVectorizer\n",
    "from sklearn.model_selection import train_test_split\n",
    "warnings.filterwarnings(\"ignore\")"
   ]
  },
  {
   "cell_type": "raw",
   "metadata": {},
   "source": [
    "read dataset"
   ]
  },
  {
   "cell_type": "code",
   "execution_count": 12,
   "metadata": {},
   "outputs": [],
   "source": [
    "with open(\"data/ProgrammWebScrapy.txt\", 'rb') as data:\n",
    "    df = pd.read_json(data)"
   ]
  },
  {
   "cell_type": "code",
   "execution_count": 13,
   "metadata": {},
   "outputs": [
    {
     "data": {
      "text/plain": [
       "0        Google Maps' services have been split into mul...\n",
       "1        It has been split into multiple APIs, includin...\n",
       "2        The Data API allows users to integrate their p...\n",
       "3        The Flickr API can be used to retrieve photos ...\n",
       "4        Its functions have been split among the follow...\n",
       "5        What was formerly the ECSeCommerce Servicehas ...\n",
       "6        Twilio provides a simple hosted API and markup...\n",
       "7        The Last.fm API gives users the ability to bui...\n",
       "8        eBay's primary web services are found in the t...\n",
       "9        Twilio provides a simple hosted API and markup...\n",
       "10       Bing Maps API and Interactive SDK features an ...\n",
       "11       del.icio.us is a social bookmarking website th...\n",
       "12       Use the Google App Engine platform to run web ...\n",
       "13       The Foursquare API provides location based exp...\n",
       "14       The Google Gadgets API provides a way to put t...\n",
       "15       DocuSign is a Cloud based legally compliant eS...\n",
       "16       Since 2006 Amazon Web Services has been offeri...\n",
       "17       The Google AdSense API is ideal for developers...\n",
       "18       Geonames is a geographical database with web s...\n",
       "19       The unofficial Wikipedia API. Because Wikipedi...\n",
       "20       Box is a modern content management platform th...\n",
       "21       The Amazon Elastic Compute Cloud (Amazon EC2) ...\n",
       "22       Bing Web Search API provides an experience sim...\n",
       "23       LinkedIn is the world's largest business socia...\n",
       "24       Instagram is a photo sharing iPhone app and se...\n",
       "25       The AJAX Libraries API is a content distributi...\n",
       "26       Per provider, this API will be shutting down o...\n",
       "27       The Yelp Fusion APIs are RESTful APIs and user...\n",
       "28       A State of Trance is a radio show, hosted by A...\n",
       "29       Use the Google Analytics Management API to lev...\n",
       "                               ...                        \n",
       "15314    Use the RatePubs API to get two-way access to ...\n",
       "15315    Use the Wipee List API to extend Wipee List or...\n",
       "15316    Use the VirWoX API to exchange virtual currenc...\n",
       "15317    The OpenEco API allows you to track your green...\n",
       "15318    Encoding.com lets you encode and transcode vid...\n",
       "15319    WebResizer is an image editor you can embed in...\n",
       "15320    Use the Dooblet API to get two alternatives to...\n",
       "15321    The TickSpot API lets you retrieve a list of c...\n",
       "15322    Use the Dilogs API to get your dives, post you...\n",
       "15323    Use the to.uri.st API to access tourist inform...\n",
       "15324    Use the AdSpeed API to access your zones, ads,...\n",
       "15325    Use the Simple DB on AppEngine API to store da...\n",
       "15326    Tweetburner is the webservice that lets you sh...\n",
       "15327    The Wordpot.com API provides functions for gen...\n",
       "15328    Use the FindMeOn API to manage your identities...\n",
       "15329    Use the GoGrid API to do everything programmat...\n",
       "15330    Use the Seattle 2.0 API to get upcoming events...\n",
       "15331    The FreedomSpeaks.com site is the first non-pa...\n",
       "15332    Todoist is an online task manager that current...\n",
       "15333    Ping the Semantic Web is a repository for RDF ...\n",
       "15334    PhoneGnome is a hardware-to-internet service t...\n",
       "15335    Walker Tracker is a site for pedometer enthusi...\n",
       "15336    Use the Dojo Learning API to access lessons, u...\n",
       "15337    LandGrab is an easy-to-play game that connects...\n",
       "15338    IZEARanks provides a blog ranking algorithm an...\n",
       "15339    Use the Mollom API to combat spam. Mollom is a...\n",
       "15340    Use the MailBoxValidator Email Validation Web ...\n",
       "15341    The Weewar API allows you to create notifiers,...\n",
       "15342    This API offers delayed stock quotes for equit...\n",
       "15343    Use the Protein Data Bank Japan (PDBj) API to ...\n",
       "Name: Description, Length: 15344, dtype: object"
      ]
     },
     "execution_count": 13,
     "metadata": {},
     "output_type": "execute_result"
    }
   ],
   "source": [
    "#shows first lines\n",
    "df['Description']"
   ]
  },
  {
   "cell_type": "code",
   "execution_count": 14,
   "metadata": {},
   "outputs": [
    {
     "data": {
      "text/plain": [
       "Index(['APIEndpoint', 'APIForumMessageBoards', 'APIPortalHomePage',\n",
       "       'APIProvider', 'ArchitecturalStyle', 'AuthenticationModel',\n",
       "       'Description', 'DeviceSpecific', 'DocsHomePageUR',\n",
       "       'IsThisanUnofficialAPI', 'IstheAPIDesign', 'PrimaryCategory',\n",
       "       'RestrictedAccess', 'SSLSupport', 'Scope', 'SecondaryCategories',\n",
       "       'SupportEmailAddress', 'SupportedRequestFormats',\n",
       "       'SupportedResponseFormats', 'Title'],\n",
       "      dtype='object')"
      ]
     },
     "execution_count": 14,
     "metadata": {},
     "output_type": "execute_result"
    }
   ],
   "source": [
    "#shows columns\n",
    "df.columns"
   ]
  },
  {
   "cell_type": "code",
   "execution_count": 15,
   "metadata": {},
   "outputs": [
    {
     "name": "stdout",
     "output_type": "stream",
     "text": [
      "['?', ':', '!', '.', ',', ';', '(', '{', '[', '&', '#', '<', '>', ']', '}', ')', \"'\", '1', '2', '3', '4', '5', '6', '7', '8', '9', '0', '\"']\n",
      "its functions have been split among the following apis: world weather online city search, world weather online time zone, world weather online ski and mountain, world weather online historical or past weather, world weather online local city weather, world weather online marine, sailing, surfing weather, and world weather online ski weather. this profile is being maintained purely for historical and research purposes.] world weather online provides weather forecast and weather api content for worldwide city and towns. the developer weather api allows developers and programmers to access free 5 day weather feed in xml, json and csv format for any location by uk postcode, canada postal code, us zipcode, city and town name (country and state/region filter) or by using latitude and longitude.\n",
      "its functions have been split among the following apis world weather online city search world weather online time zone world weather online ski and mountain world weather online historical or past weather world weather online local city weather world weather online marine sailing surfing weather and world weather online ski weather this profile is being maintained purely for historical and research purposes world weather online provides weather forecast and weather api content for worldwide city and towns the developer weather api allows developers and programmers to access free  day weather feed in xml json and csv format for any location by uk postcode canada postal code us zipcode city and town name country and state/region filter or by using latitude and longitude\n"
     ]
    }
   ],
   "source": [
    "# remove ponctuation \n",
    "punctuation_signs = list(\"?:!.,;({[&#<>]})'1234567890\\\"\")\n",
    "print(punctuation_signs)\n",
    "stop_words = list(stopwords.words('english'))###########################\n",
    "def clean_text():\n",
    "    # Dataframe creation\n",
    "    lemmatized_text_list = []\n",
    "    data = pd.DataFrame(df,columns=['Description','Title','PrimaryCategory','SecondaryCategories'])\n",
    "   # print(data['Description'])\n",
    "   # df.loc[0] = text\n",
    "    data['Content_Parsed_1'] = data['Description'].str.replace(\"\\r\", \" \")\n",
    "    data['Content_Parsed_1'] = data['Content_Parsed_1'].str.replace(\"\\n\", \" \")\n",
    "    data['Content_Parsed_1'] = data['Content_Parsed_1'].str.replace(\"    \", \" \")\n",
    "    data['Content_Parsed_1'] = data['Content_Parsed_1'].str.replace('\"', '')\n",
    "    data['Content_Parsed_2'] = data['Content_Parsed_1'].str.lower()\n",
    "    data['Content_Parsed_3'] = data['Content_Parsed_2']\n",
    "    print(data['Content_Parsed_3'][157])\n",
    "    for punct_sign in punctuation_signs:\n",
    "        data['Content_Parsed_3'] = data['Content_Parsed_3'].str.replace(punct_sign, '')\n",
    "    print(data['Content_Parsed_3'][157])\n",
    "    data['Content_Parsed_3'] = data['Content_Parsed_3'].str.replace(\"'s\", \"\")\n",
    "    data['Content_Parsed_4'] = data['Content_Parsed_3'].str.replace(\"s'\", \"\")\n",
    "    \n",
    "   #####################################################################\n",
    "    wordnet_lemmatizer = WordNetLemmatizer()\n",
    "    #########################\n",
    "    nrows = len(data)\n",
    "    lemmatized_text_list = []\n",
    "    for row in range(0, nrows):\n",
    "        # Create an empty list containing lemmatized words\n",
    "        lemmatized_list = []\n",
    "        # Save the text and its words into an object\n",
    "        text = data.loc[row]['Content_Parsed_4']\n",
    "        text_words = text.split(\" \")\n",
    "        # Iterate through every word to lemmatize\n",
    "        for word in text_words:\n",
    "            lemmatized_list.append(wordnet_lemmatizer.lemmatize(word, pos=\"v\"))\n",
    "        # Join the list\n",
    "        lemmatized_text = \" \".join(lemmatized_list)\n",
    "        # Append to the list containing the texts\n",
    "        lemmatized_text_list.append(lemmatized_text)\n",
    "    data['Content_Parsed_5'] = lemmatized_text_list\n",
    "    data['Content_Parsed_6'] = data['Content_Parsed_5']\n",
    "    data['Content_Parsed_6'].replace('', np.nan,inplace=True)\n",
    "   # df['Tenant'].replace('', np.nan, inplace=True)\n",
    "    #data['Content_Parsed_6'] = data['Content_Parsed_6'].str.replace(\"  \", \" \")\n",
    "    for stop_word in stop_words:\n",
    "        regex_stopword = r\"\\b\" + stop_word + r\"\\b\"\n",
    "        data['Content_Parsed_6'] = data['Content_Parsed_6'].str.replace(regex_stopword,'')\n",
    "    data['Content_Parsed_6'] =  data['Content_Parsed_6'].str.replace(\"\\s\\s+\", ' ')\n",
    "   # data = data['Content_Parsed_6']\n",
    "    code_cat={}\n",
    "    data.fillna('unknow', inplace=True)\n",
    "    #data.dropna(subset=['Content_Parsed_6'])\n",
    "   # data.loc[350]['data']=\"no description\"\n",
    "    data.loc[350]\n",
    "    for i, val in enumerate(data['PrimaryCategory'].unique()):\n",
    "       # print(i)\n",
    "        code_cat[str(val)] = i\n",
    "    data['class_code'] = data['PrimaryCategory']\n",
    "    data = data.replace({'class_code':code_cat})\n",
    "    data = data.rename(columns={'Content_Parsed_6': 'data','Title':'name','PrimaryCategory':'class_1','SecondaryCategories':'class_2'})\n",
    "    dataset=pd.DataFrame(data,columns=['data','name','class_1','class_code','class_2'])\n",
    "    #return data\n",
    "##############################################################################\n",
    "    # TF-IDF\n",
    "   # print(dataset.head())\n",
    "    return dataset\n",
    "\n",
    "    \n",
    "dataset=clean_text()"
   ]
  },
  {
   "cell_type": "code",
   "execution_count": 16,
   "metadata": {},
   "outputs": [
    {
     "data": {
      "text/plain": [
       "'unknow'"
      ]
     },
     "execution_count": 16,
     "metadata": {},
     "output_type": "execute_result"
    }
   ],
   "source": [
    "dataset.loc[350]['data']"
   ]
  },
  {
   "cell_type": "code",
   "execution_count": 17,
   "metadata": {},
   "outputs": [
    {
     "data": {
      "text/plain": [
       "data                            unknow\n",
       "name          Windows Live Gadgets API\n",
       "class_1                        Widgets\n",
       "class_code                          11\n",
       "class_2                         unknow\n",
       "Name: 350, dtype: object"
      ]
     },
     "execution_count": 17,
     "metadata": {},
     "output_type": "execute_result"
    }
   ],
   "source": [
    "dataset.loc[350]"
   ]
  },
  {
   "cell_type": "code",
   "execution_count": 18,
   "metadata": {},
   "outputs": [],
   "source": [
    "dataset.to_csv('data/microservices.csv', encoding='utf-8', index=False, header=True)"
   ]
  },
  {
   "cell_type": "code",
   "execution_count": null,
   "metadata": {},
   "outputs": [],
   "source": []
  },
  {
   "cell_type": "code",
   "execution_count": null,
   "metadata": {},
   "outputs": [],
   "source": []
  }
 ],
 "metadata": {
  "kernelspec": {
   "display_name": "Python 3",
   "language": "python",
   "name": "python3"
  },
  "language_info": {
   "codemirror_mode": {
    "name": "ipython",
    "version": 3
   },
   "file_extension": ".py",
   "mimetype": "text/x-python",
   "name": "python",
   "nbconvert_exporter": "python",
   "pygments_lexer": "ipython3",
   "version": "3.6.9"
  }
 },
 "nbformat": 4,
 "nbformat_minor": 4
}
